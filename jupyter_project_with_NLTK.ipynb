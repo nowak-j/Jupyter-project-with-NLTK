{
 "cells": [
  {
   "cell_type": "markdown",
   "id": "a9cc42d3-3c11-4ad9-9247-bea2075bbac7",
   "metadata": {
    "tags": []
   },
   "source": [
    "# This script performs text preprocessing and processing using the **NLTK** library."
   ]
  },
  {
   "cell_type": "markdown",
   "id": "48ec6163-6b2f-4399-ade1-d493852ab58f",
   "metadata": {},
   "source": [
    "![From: http://aishelf.org/nltk/](http://aishelf.org/wp-content/uploads/2020/08/nltk.png)"
   ]
  },
  {
   "cell_type": "markdown",
   "id": "d1e9f5f0-6604-48ed-8443-4eb866e540af",
   "metadata": {},
   "source": [
    "#### The text used is a desciption of Chanel N°5 perfume. This choice stems from the topic of *The Corpus of Fragrances* prepared together with Maja Grys and is used here with her permission."
   ]
  },
  {
   "cell_type": "markdown",
   "id": "0f374d88-27d7-447d-9156-de99d71a5155",
   "metadata": {},
   "source": [
    "In order to make the code easy to read, all imports are placed at the beginning."
   ]
  },
  {
   "cell_type": "code",
   "execution_count": 240,
   "id": "87d7fada-cd58-4132-81c9-fc8aa4bab45d",
   "metadata": {
    "tags": []
   },
   "outputs": [
    {
     "name": "stderr",
     "output_type": "stream",
     "text": [
      "[nltk_data] Downloading package stopwords to\n",
      "[nltk_data]     C:\\Users\\joann\\AppData\\Roaming\\nltk_data...\n",
      "[nltk_data]   Package stopwords is already up-to-date!\n",
      "[nltk_data] Downloading package omw-1.4 to\n",
      "[nltk_data]     C:\\Users\\joann\\AppData\\Roaming\\nltk_data...\n",
      "[nltk_data]   Package omw-1.4 is already up-to-date!\n"
     ]
    }
   ],
   "source": [
    "import requests\n",
    "from bs4 import BeautifulSoup\n",
    "\n",
    "import matplotlib.pyplot as plt\n",
    "\n",
    "import nltk\n",
    "from nltk.tokenize import sent_tokenize\n",
    "from nltk.tokenize import word_tokenize\n",
    "nltk.download('stopwords')\n",
    "import string\n",
    "\n",
    "nltk.download('omw-1.4')\n",
    "from nltk.corpus import wordnet\n",
    "\n",
    "import spacy\n",
    "from spacy import displacy\n",
    "from collections import Counter\n",
    "import en_core_web_sm\n",
    "nlp = en_core_web_sm.load()\n",
    "\n",
    "from nltk.stem import PorterStemmer\n",
    "from nltk.stem import SnowballStemmer \n",
    "\n",
    "from nltk.stem import WordNetLemmatizer"
   ]
  },
  {
   "cell_type": "markdown",
   "id": "80058174-0c73-4752-bb6b-b191f2a8542e",
   "metadata": {},
   "source": [
    "Firstly, the data is provided using **web scraping** techinque."
   ]
  },
  {
   "cell_type": "code",
   "execution_count": 278,
   "id": "b1cd9b18-eab7-4bc0-b2ae-c5a1897b9750",
   "metadata": {},
   "outputs": [],
   "source": [
    "page = requests.get(\"https://www.notino.co.uk/chanel/no5-eau-de-parfum-for-women/\")\n",
    "#print(page.content)"
   ]
  },
  {
   "cell_type": "code",
   "execution_count": 280,
   "id": "bee7f62d-7135-404e-ab2e-d664fb22a1af",
   "metadata": {},
   "outputs": [],
   "source": [
    "soup = BeautifulSoup(page.content, 'html.parser')\n",
    "#print(soup.prettify())"
   ]
  },
  {
   "cell_type": "markdown",
   "id": "6820c56b-8904-496a-9e6e-c98053d8e580",
   "metadata": {},
   "source": [
    "The code below **finds** all **paragraphs** in the text."
   ]
  },
  {
   "cell_type": "code",
   "execution_count": 263,
   "id": "844adb2a-e0bc-4d01-8f24-45e6780c8955",
   "metadata": {},
   "outputs": [
    {
     "name": "stdout",
     "output_type": "stream",
     "text": [
      "['A perfume with a capital P. A legend among fragrances. Luxury in a bottle. Chanel N°5 is that and so much more – the most famous fragrance of all time, favoured by many including the legendary Marilyn Monroe.', 'Enjoy the iconic fragrance which still hasn’t found its match even after decades since its first launch. Because quality, style, and feminine charm will never go out of fashion.', 'Composition of the fragranceFirst, you’ll notice aldehydes, ylang-yalng, neroli, and citrus notes. Then come the gentle notes of rose, lily of the valley, and jasmine. The whole composition rests on a base of amber, gourmand vanilla, and warm sandalwood with oriental notes of patchouli.', 'Story of the fragranceChanel N°5 Eau de Parfum for women was first introduced in 1921 by the famous Gabrielle “Coco” Chanel. Gabrielle wanted this fragrance to reflect her memories from her childhood in the French town of Aubazine. The chemist Ernest Beaux successfully created a few samples and Gabrielle especially liked sample number 5, which inspired the name of this iconic fragrance. The first 100 bottles were manufactured as a gift for the designer’s best customers, and then the fragrance became available in the Chanle boutique. After a hundred years on the market, Chanel N°5 is still one of the most popular fragrances in the world.', 'Complete ingredients list', 'The founder of Chanel, dubbed the Queen of Fashion, Gabrielle Bonheur Chanel, was born in 1883 in Saumur, a small town in the west of France. However, once she was in Paris, she conquered the fashion world with her progressive costume design with legs and a skirt.', 'Coco Chanel began as a bar singer, where she got her nickname. As early as 1912, she opened her first fashion salon, and was soon a recognised designer. By the mid-20th-century, she was setting the trends in haute couture and Chanel was worn by personalities such as Jacqueline Kennedy and Grace Kelly.', 'It was not long before Chanel’s interest spread to cosmetics and perfume. The very first Chanel perfume, the legendary Chanel No. 5, was launched in 1921 and is still one of the best-known and best-selling perfumes of all time. Nowadays, we can easily say that Chanel Chance, Chanel Coco Mademoiselle, Chanel Allure Homme Sport and Chanel Gabrielle are also cult classics.', 'By submitting, you consent to the processing of your personal data for the purpose of offering and processing marketing offers by Notino International Limited. You have right to object. More information on the policy concerning the processing of personal data.', 'www.notino.cz', '© 2022 NOTINO INTERNATIONAL LIMITED']\n"
     ]
    }
   ],
   "source": [
    "paragraphs = soup.find_all('p')\n",
    "only_paragraphs = []\n",
    "for paragraph in paragraphs:\n",
    "    processed = paragraph.get_text()\n",
    "    processed = processed.strip()\n",
    "    if len(processed) > 1:\n",
    "        only_paragraphs.append(processed)\n",
    "        \n",
    "print(only_paragraphs)"
   ]
  },
  {
   "cell_type": "markdown",
   "id": "bbb502c4-524d-4ef0-90ff-67806de60e62",
   "metadata": {},
   "source": [
    "At this point, the list can be converted to a string to enable **tokenization** and **counting** of <ins>sentences and words</ins>."
   ]
  },
  {
   "cell_type": "code",
   "execution_count": 264,
   "id": "5839c651-2422-457a-bfe9-57d256f0fc49",
   "metadata": {},
   "outputs": [
    {
     "name": "stdout",
     "output_type": "stream",
     "text": [
      "The number of sentences is 26 and the number of words is 436\n",
      "The average number of tokens per sentence is 17\n"
     ]
    }
   ],
   "source": [
    "text = ' '.join(only_paragraphs)\n",
    "sentences = sent_tokenize(text)\n",
    "text_without_punctuation = text.translate(str.maketrans('', '', string.punctuation))\n",
    "words = word_tokenize(text_without_punctuation)\n",
    "print(\"The number of sentences is\", len(sentences), \"and the number of words is\", len(words))\n",
    "\n",
    "average = round(len(words)/len(sentences))\n",
    "print(\"The average number of tokens per sentence is\",average)"
   ]
  },
  {
   "cell_type": "markdown",
   "id": "c4383851-9735-4327-8935-107a106d205a",
   "metadata": {},
   "source": [
    "The counting of tokens can also be performed after removing **stopwords**."
   ]
  },
  {
   "cell_type": "code",
   "execution_count": 245,
   "id": "ae202bce-d736-4385-8a5a-a86cb521eeac",
   "metadata": {},
   "outputs": [
    {
     "name": "stdout",
     "output_type": "stream",
     "text": [
      "The number of total tokens after removing stopwords are 271\n"
     ]
    }
   ],
   "source": [
    "stop_words = set(stopwords.words('english'))\n",
    "final_tokens = []\n",
    "for token in words:\n",
    " if token not in stop_words:\n",
    "    final_tokens.append(token)\n",
    "print(\"The number of total tokens after removing stopwords are\", len(final_tokens))"
   ]
  },
  {
   "cell_type": "markdown",
   "id": "5438480e-1485-4dda-ad5a-4f02814ec4aa",
   "metadata": {},
   "source": [
    "Having data in a string type, **named entities** can be extracted."
   ]
  },
  {
   "cell_type": "code",
   "execution_count": 246,
   "id": "e31c242a-e910-4ee4-ac18-11500cbda197",
   "metadata": {},
   "outputs": [
    {
     "name": "stdout",
     "output_type": "stream",
     "text": [
      "[('Chanel N', 'ORG'), ('5', 'CARDINAL'), ('Marilyn Monroe', 'PERSON'), ('decades', 'DATE'), ('first', 'ORDINAL'), ('neroli', 'GPE'), ('5 Eau de Parfum', 'ORG'), ('1921', 'DATE'), ('Gabrielle', 'ORG'), ('Gabrielle', 'PERSON'), ('French', 'NORP'), ('Aubazine', 'GPE'), ('Ernest Beaux', 'PERSON'), ('Gabrielle', 'ORG'), ('5', 'CARDINAL'), ('first', 'ORDINAL'), ('100', 'CARDINAL'), ('Chanle', 'NORP'), ('a hundred years', 'DATE'), ('Chanel N', 'ORG'), ('5', 'CARDINAL'), ('Chanel', 'ORG'), ('the Queen of Fashion', 'ORG'), ('Gabrielle Bonheur Chanel', 'PERSON'), ('1883', 'DATE'), ('Saumur', 'GPE'), ('France', 'GPE'), ('Paris', 'GPE'), ('Coco Chanel', 'ORG'), ('1912', 'DATE'), ('first', 'ORDINAL'), ('mid-20th-century', 'DATE'), ('Chanel', 'ORG'), ('Jacqueline Kennedy', 'PERSON'), ('Grace Kelly', 'PERSON'), ('Chanel', 'ORG'), ('Chanel', 'ORG'), ('Chanel No', 'ORG'), ('5', 'CARDINAL'), ('1921', 'DATE'), ('Chanel Chance', 'ORG'), ('Chanel Coco Mademoiselle', 'ORG'), ('Chanel', 'ORG'), ('Homme Sport', 'PERSON'), ('Chanel Gabrielle', 'PERSON'), ('Notino International Limited', 'ORG'), ('© 2022 NOTINO INTERNATIONAL LIMITED', 'ORG')]\n"
     ]
    }
   ],
   "source": [
    "doc = nlp(text)\n",
    "print([(word.text, word.label_) for word in doc.ents])"
   ]
  },
  {
   "cell_type": "markdown",
   "id": "0f535f94-8637-411c-b8c4-db300254cc1e",
   "metadata": {},
   "source": [
    "Next, tokens are **tagged** and the <ins>frequency of every tag</ins> is counted."
   ]
  },
  {
   "cell_type": "code",
   "execution_count": 284,
   "id": "12121f1b-87d1-4d54-b277-6da3d3eabcd3",
   "metadata": {},
   "outputs": [
    {
     "name": "stdout",
     "output_type": "stream",
     "text": [
      "First 10 tagged words: [('A', 'DT'), ('perfume', 'NN'), ('with', 'IN'), ('a', 'DT'), ('capital', 'NN'), ('P', 'NNP'), ('A', 'NNP'), ('legend', 'NN'), ('among', 'IN'), ('fragrances', 'NNS')]\n"
     ]
    }
   ],
   "source": [
    "words_tagged = []\n",
    "for paragraph in only_paragraphs:\n",
    "    paragraph = paragraph.translate(str.maketrans('', '', string.punctuation))\n",
    "    tokenized = nltk.word_tokenize(paragraph)\n",
    "    tagged = nltk.pos_tag(tokenized)\n",
    "    for item in tagged:\n",
    "        words_tagged.append(item)\n",
    "\n",
    "print(\"First 10 tagged words:\", words_tagged[:10])"
   ]
  },
  {
   "cell_type": "code",
   "execution_count": 248,
   "id": "56048861-07ca-414c-b866-76d48255ee8f",
   "metadata": {},
   "outputs": [
    {
     "name": "stdout",
     "output_type": "stream",
     "text": [
      "{'DT': 48, 'NN': 71, 'IN': 59, 'NNP': 62, 'NNS': 24, 'JJ': 38, 'VBZ': 4, 'CC': 16, 'RB': 23, 'RBR': 1, 'RBS': 2, 'VBN': 7, 'VBG': 7, 'VB': 6, 'WDT': 2, 'VBD': 21, 'PRP$': 6, 'MD': 2, 'PRP': 12, 'VBP': 6, 'FW': 1, 'CD': 11, 'TO': 4, 'JJS': 1, 'WRB': 1, 'JJR': 1}\n"
     ]
    }
   ],
   "source": [
    "counted_tags = {}\n",
    "for item in words_tagged:\n",
    "    if item[1] not in counted_tags:\n",
    "        counted_tags[item[1]] = 1\n",
    "    else:\n",
    "        counted_tags[item[1]] += 1\n",
    "\n",
    "print(counted_tags)"
   ]
  },
  {
   "cell_type": "markdown",
   "id": "c33e1e6a-11df-4a71-b604-ca6486dfdfd6",
   "metadata": {},
   "source": [
    "This code block visualizes the frequency of POS tags using **matplotlib**."
   ]
  },
  {
   "cell_type": "code",
   "execution_count": 268,
   "id": "21b454f8-4eb0-4bb8-b5b8-632818cf1012",
   "metadata": {},
   "outputs": [
    {
     "data": {
      "image/png": "[encoded data removed]",
      "text/plain": [
       "<Figure size 432x288 with 1 Axes>"
      ]
     },
     "metadata": {
      "needs_background": "light"
     },
     "output_type": "display_data"
    }
   ],
   "source": [
    "x = []\n",
    "y = []\n",
    "labels = []\n",
    "i = 1\n",
    "for k,v in counted_tags.items():\n",
    "    x.append(i)\n",
    "    y.append(v)\n",
    "    labels.append(k)\n",
    "    i += 1\n",
    "\n",
    "plt.bar(x,y, color=('g','b'))\n",
    "plt.title('POS Tag Frequencies', fontsize=16)\n",
    "plt.xticks(x, labels)\n",
    "plt.xlabel('POS tag')\n",
    "plt.ylabel('Frequency')\n",
    "\n",
    "plt.grid(True)\n",
    "plt.minorticks_on()\n",
    "plt.xticks(rotation=90, fontsize=7)\n",
    "\n",
    "plt.show()"
   ]
  },
  {
   "cell_type": "markdown",
   "id": "af595146-3546-4fbd-b707-9ee38b8e74a3",
   "metadata": {},
   "source": [
    "Below, **stemming** is performed by means of <ins>Snowball Stemmer</ins> algorithm."
   ]
  },
  {
   "cell_type": "code",
   "execution_count": 276,
   "id": "ddaddb17-4c59-4f14-82b5-f57c8f8407f1",
   "metadata": {},
   "outputs": [
    {
     "name": "stdout",
     "output_type": "stream",
     "text": [
      "First 10 Snowball stemmed words: ['a', 'perfum', 'with', 'a', 'capit', 'p', 'a', 'legend', 'among', 'fragranc']\n"
     ]
    }
   ],
   "source": [
    "stemmer = SnowballStemmer(\"english\")   \n",
    "stemmed_words = [stemmer.stem(word) for word in words]\n",
    "#print(\"All Snowball stemmed words:\", stemmed_words)\n",
    "print(\"First 10 Snowball stemmed words:\", stemmed_words[:10])"
   ]
  },
  {
   "cell_type": "markdown",
   "id": "f8bbf668-2be6-4d01-a54b-9e96d1320494",
   "metadata": {},
   "source": [
    "Lastly, **lemmatisation** can be done."
   ]
  },
  {
   "cell_type": "code",
   "execution_count": 275,
   "id": "c8b7ec90-fb64-40ba-825c-6226d16a51d7",
   "metadata": {},
   "outputs": [
    {
     "name": "stdout",
     "output_type": "stream",
     "text": [
      "First 10 lemmatized words using a POS tag: ['A', 'perfume', 'with', 'a', 'capital', 'P', 'A', 'legend', 'among', 'fragrances']\n"
     ]
    }
   ],
   "source": [
    "lemmatized_words = [lemmatizer.lemmatize(word, pos = \"v\") for word in words]\n",
    "#print(\"All lemmatized words using a POS tag:\", lemmatized_words)\n",
    "print(\"First 10 lemmatized words using a POS tag:\", lemmatized_words[:10])"
   ]
  },
  {
   "cell_type": "markdown",
   "id": "42c030f0-7776-4c50-b0ea-06638aa07982",
   "metadata": {},
   "source": [
    "Additionally, NLTK library allows the user to work with, for instance, **WordNet**.\n",
    "\n",
    "The code below shows synonyms of *pefume* and antonyms of *sweet*."
   ]
  },
  {
   "cell_type": "code",
   "execution_count": 252,
   "id": "2ce268f6-508b-4a1d-a7e6-d1f8d21c0893",
   "metadata": {},
   "outputs": [
    {
     "name": "stdout",
     "output_type": "stream",
     "text": [
      "{'aromatize', 'essence', 'fragrance', 'aroma', 'scent', 'perfume', 'aromatise'}\n"
     ]
    }
   ],
   "source": [
    "synonyms = []\n",
    "\n",
    "for syn in wordnet.synsets(\"perfume\"):\n",
    "    for i in syn.lemmas():\n",
    "        synonyms.append(i.name())\n",
    "\n",
    "print(set(synonyms))"
   ]
  },
  {
   "cell_type": "markdown",
   "id": "ae70b249-bedb-4d0b-9661-4bfac0d48cc9",
   "metadata": {},
   "source": [
    "As one can check [here](http://wordnetweb.princeton.edu/perl/webwn?s=perfume&sub=Search+WordNet&o2=&o0=1&o8=1&o1=1&o7=&o5=&o9=&o6=&o3=&o4=&h=), the results are alike."
   ]
  },
  {
   "cell_type": "code",
   "execution_count": 253,
   "id": "ab640433-f9b1-404c-9121-a86616d4afba",
   "metadata": {},
   "outputs": [
    {
     "name": "stdout",
     "output_type": "stream",
     "text": [
      "{'salty', 'dry', 'sour'}\n"
     ]
    }
   ],
   "source": [
    "antonyms = []\n",
    "\n",
    "for syn in wordnet.synsets(\"sweet\"):\n",
    "    for i in syn.lemmas():\n",
    "         if i.antonyms():\n",
    "              antonyms.append(i.antonyms()[0].name())\n",
    "\n",
    "print(set(antonyms))\n"
   ]
  }
 ],
 "metadata": {
  "kernelspec": {
   "display_name": "Python 3 (ipykernel)",
   "language": "python",
   "name": "python3"
  },
  "language_info": {
   "codemirror_mode": {
    "name": "ipython",
    "version": 3
   },
   "file_extension": ".py",
   "mimetype": "text/x-python",
   "name": "python",
   "nbconvert_exporter": "python",
   "pygments_lexer": "ipython3",
   "version": "3.10.4"
  }
 },
 "nbformat": 4,
 "nbformat_minor": 5
}
